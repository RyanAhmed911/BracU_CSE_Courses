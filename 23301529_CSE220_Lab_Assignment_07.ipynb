{
  "cells": [
    {
      "cell_type": "code",
      "execution_count": 1,
      "metadata": {
        "id": "D6vC520OPeTa"
      },
      "outputs": [],
      "source": [
        "class BTNode:\n",
        "  def __init__(self, elem):\n",
        "    self.elem = elem\n",
        "    self.right = None\n",
        "    self.left = None"
      ]
    },
    {
      "cell_type": "code",
      "execution_count": 2,
      "metadata": {
        "id": "UDTKlm4-PfNM"
      },
      "outputs": [],
      "source": [
        "def inorder(root):\n",
        "  if root == None:\n",
        "    return\n",
        "\n",
        "  inorder(root.left)\n",
        "  print(root.elem, end = ' ')\n",
        "  inorder(root.right)"
      ]
    },
    {
      "cell_type": "code",
      "execution_count": 3,
      "metadata": {
        "id": "Rtc22SPzPgzM",
        "colab": {
          "base_uri": "https://localhost:8080/"
        },
        "outputId": "f0f42fb4-7c82-471d-e288-c6aa30a9807e"
      },
      "outputs": [
        {
          "output_type": "stream",
          "name": "stdout",
          "text": [
            "H D B E A I F J C G k "
          ]
        }
      ],
      "source": [
        "def tree_construction(arr, i = 1):\n",
        "  if i>=len(arr) or arr[i] == None:\n",
        "    return None\n",
        "  p = BTNode(arr[i])\n",
        "  p.left = tree_construction(arr, 2*i)\n",
        "  p.right = tree_construction(arr, 2*i+1)\n",
        "  return p\n",
        "\n",
        "\n",
        "root2 = tree_construction([None, 'A', 'B', 'C', 'D', 'E', 'F', 'G', 'H', None, None, None, 'I', 'J', None, 'k'])\n",
        "inorder(root2)"
      ]
    },
    {
      "cell_type": "markdown",
      "metadata": {
        "id": "S2nNCJNhPqGq"
      },
      "source": [
        "Task 1"
      ]
    },
    {
      "cell_type": "code",
      "execution_count": 7,
      "metadata": {
        "id": "zbBHU3FoPieb",
        "colab": {
          "base_uri": "https://localhost:8080/"
        },
        "outputId": "ae3c9457-8b14-410c-ceb3-86eda87c7900"
      },
      "outputs": [
        {
          "output_type": "stream",
          "name": "stdout",
          "text": [
            "10\n",
            "15\n",
            "20\n",
            "25\n",
            "10\n"
          ]
        }
      ],
      "source": [
        "def LCA(root, x, y):\n",
        "    if x < root.elem and y < root.elem:\n",
        "        return LCA(root.left, x, y)\n",
        "    elif x > root.elem and y > root.elem:\n",
        "        return LCA(root.right, x, y)\n",
        "    else:\n",
        "        return root.elem\n",
        "\n",
        "#DRIVER CODE\n",
        "#Write by yourself from the given tree (Create parent node and its corresponding left and right children nodes)\n",
        "root = BTNode(15)\n",
        "node1 = BTNode(10)\n",
        "node2 = BTNode(25)\n",
        "node3 = BTNode(8)\n",
        "node4 = BTNode(12)\n",
        "node5 = BTNode(20)\n",
        "node6 = BTNode(30)\n",
        "node7 = BTNode(6)\n",
        "node8 = BTNode(9)\n",
        "node9 = BTNode(18)\n",
        "node10 = BTNode(22)\n",
        "\n",
        "root.left = node1\n",
        "root.right = node2\n",
        "\n",
        "node1.left = node3\n",
        "node1.right = node4\n",
        "\n",
        "node2.left = node5\n",
        "node2.right = node6\n",
        "\n",
        "node3.left = node7\n",
        "node3.right = node8\n",
        "\n",
        "node5.left = node9\n",
        "node5.right = node10\n",
        "#check all the sample inputs given\n",
        "print(LCA(root, 6, 12))\n",
        "print(LCA(root, 20, 6))\n",
        "print(LCA(root, 18, 22))\n",
        "print(LCA(root, 20, 25))\n",
        "print(LCA(root, 10, 12))\n",
        "#You can take help by seeing the driver code of Lab-6"
      ]
    },
    {
      "cell_type": "markdown",
      "metadata": {
        "id": "c-TBf3m0PrtK"
      },
      "source": [
        "Task 2"
      ]
    },
    {
      "cell_type": "code",
      "source": [
        "def find_path(root, key):\n",
        "    def route(root, key):\n",
        "        if root != None:\n",
        "            if key > root.elem:\n",
        "                return [root.elem] + route(root.right, key)\n",
        "            elif key < root.elem:\n",
        "                return [root.elem] + route(root.left, key)\n",
        "            else:\n",
        "                return [root.elem]\n",
        "        else:\n",
        "            return []\n",
        "\n",
        "    path = route(root,key)\n",
        "    if key in path:\n",
        "        return path\n",
        "    else:\n",
        "        return (\"No Path Found\")\n",
        "\n",
        "#DRIVER CODE\n",
        "#Write by yourself from the given tree\n",
        "root = BTNode(30)\n",
        "node1 = BTNode(10)\n",
        "node2 = BTNode(40)\n",
        "node3 = BTNode(3)\n",
        "node4 = BTNode(15)\n",
        "node5 = BTNode(35)\n",
        "node6 = BTNode(55)\n",
        "\n",
        "root.left = node1\n",
        "root.right = node2\n",
        "\n",
        "node1.left = node3\n",
        "node1.right = node4\n",
        "\n",
        "node2.left = node5\n",
        "node2.right = node6\n",
        "\n",
        "print(find_path(root,15))\n",
        "#This should print [30,10,15]\n",
        "\n",
        "print(find_path(root,50))\n",
        "#This should print No Path Found"
      ],
      "metadata": {
        "id": "i6l-v7k1eE9A",
        "colab": {
          "base_uri": "https://localhost:8080/"
        },
        "outputId": "8da30cfa-3100-482e-f391-50209da10e61"
      },
      "execution_count": 43,
      "outputs": [
        {
          "output_type": "stream",
          "name": "stdout",
          "text": [
            "[30, 10, 15]\n",
            "No Path Found\n"
          ]
        }
      ]
    },
    {
      "cell_type": "markdown",
      "metadata": {
        "id": "7r3lH3aWPz2d"
      },
      "source": [
        "Task 3"
      ]
    },
    {
      "cell_type": "code",
      "source": [
        "def sum_of_leaves(root, sum):\n",
        "    if root != None:\n",
        "        if root.left != None and root.right != None:\n",
        "            return sum_of_leaves(root.left, sum) + sum_of_leaves(root.right, sum)\n",
        "        elif root.left != None and root.right == None:\n",
        "            return sum_of_leaves(root.left, sum)\n",
        "        elif root.left == None and root.right != None:\n",
        "            return sum_of_leaves(root.right, sum)\n",
        "        else:\n",
        "            sum += root.elem\n",
        "            return sum\n",
        "\n",
        "#DRIVER CODE\n",
        "#Write by yourself from the given tree\n",
        "root = BTNode(30)\n",
        "node1 = BTNode(10)\n",
        "node2 = BTNode(40)\n",
        "node3 = BTNode(3)\n",
        "node4 = BTNode(15)\n",
        "node5 = BTNode(35)\n",
        "node6 = BTNode(55)\n",
        "node7 = BTNode(2)\n",
        "node8 = BTNode(36)\n",
        "\n",
        "root.left = node1\n",
        "root.right = node2\n",
        "\n",
        "node1.left = node3\n",
        "node1.right = node4\n",
        "\n",
        "node2.left = node5\n",
        "node2.right = node6\n",
        "\n",
        "node3.left = node7\n",
        "\n",
        "node5.right = node8\n",
        "\n",
        "print(sum_of_leaves(root, 0))"
      ],
      "metadata": {
        "id": "5eT12zYb8zm7",
        "colab": {
          "base_uri": "https://localhost:8080/"
        },
        "outputId": "b35d783c-a677-43bf-b696-70cf24c804c4"
      },
      "execution_count": 48,
      "outputs": [
        {
          "output_type": "stream",
          "name": "stdout",
          "text": [
            "108\n"
          ]
        }
      ]
    }
  ],
  "metadata": {
    "colab": {
      "provenance": []
    },
    "kernelspec": {
      "display_name": "Python 3",
      "name": "python3"
    },
    "language_info": {
      "name": "python"
    }
  },
  "nbformat": 4,
  "nbformat_minor": 0
}