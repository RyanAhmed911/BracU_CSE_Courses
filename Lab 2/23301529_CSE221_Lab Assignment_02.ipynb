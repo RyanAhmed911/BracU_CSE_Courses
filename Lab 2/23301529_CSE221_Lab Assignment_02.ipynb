{
 "cells": [
  {
   "cell_type": "code",
   "execution_count": 18,
   "metadata": {},
   "outputs": [],
   "source": [
    "import numpy as np"
   ]
  },
  {
   "cell_type": "markdown",
   "metadata": {},
   "source": [
    "Task 1"
   ]
  },
  {
   "cell_type": "code",
   "execution_count": null,
   "metadata": {},
   "outputs": [],
   "source": [
    "#O(n^2) Solution\n",
    "\n",
    "def integer_game(arr, key):\n",
    "    for i in range(len(arr)):\n",
    "        for j in range(len(arr)):\n",
    "            if i != j:\n",
    "                if arr[i] + arr[j] == key:\n",
    "                    return f\"{i+1} {j+1}\"\n",
    "                    \n",
    "    return f\"IMPOSSIBLE\"\n",
    "\n",
    "file = open(\"input1.txt\",\"r\")\n",
    "data = file.readlines()\n",
    "file.close()\n",
    "file = open(\"output1.txt\",\"w\")\n",
    "\n",
    "arr_length = int(data[0].split()[0])\n",
    "key = int(data[0].split()[1])\n",
    "\n",
    "arr1 = np.zeros(arr_length, dtype = int)\n",
    "\n",
    "number_list = data[1].split()\n",
    "\n",
    "for i in range(arr_length):\n",
    "    arr1[i] = int(number_list[i])\n",
    "\n",
    "file.write(integer_game(arr1, key))\n",
    "file.close()"
   ]
  },
  {
   "cell_type": "code",
   "execution_count": null,
   "metadata": {},
   "outputs": [],
   "source": [
    "#O(n) Solution\n",
    "def faster_integer_game(arr, key):\n",
    "    low = 0\n",
    "    high = len(arr1)-1\n",
    "\n",
    "    while low < high:\n",
    "        if arr[low] + arr[high] == key:\n",
    "            return f\"{low+1} {high+1}\"\n",
    "        elif arr[low] + arr[high] < key:\n",
    "            low += 1\n",
    "        else:\n",
    "            high -= 1\n",
    "    return f\"IMPOSSIBLE\"\n",
    "\n",
    "file = open(\"input1.txt\",\"r\")\n",
    "data = file.readlines()\n",
    "file.close()\n",
    "file = open(\"output1.txt\",\"w\")\n",
    "\n",
    "arr_length = int(data[0].split()[0])\n",
    "key = int(data[0].split()[1])\n",
    "\n",
    "arr1 = np.zeros(arr_length, dtype = int)\n",
    "\n",
    "number_list = data[1].split()\n",
    "for i in range(arr_length):\n",
    "    arr1[i] = int(number_list[i])\n",
    "\n",
    "file.write(faster_integer_game(arr1, key))\n",
    "file.close()"
   ]
  },
  {
   "cell_type": "markdown",
   "metadata": {},
   "source": [
    "Task 2"
   ]
  },
  {
   "cell_type": "code",
   "execution_count": null,
   "metadata": {},
   "outputs": [],
   "source": [
    "#O(nlogn) Solution\n",
    "\n",
    "file = open(\"input2.txt\",\"r\")\n",
    "data = file.readlines()\n",
    "file.close()\n",
    "file = open(\"output2.txt\",\"w\")\n",
    "\n",
    "list1_length = int(data[0])\n",
    "list2_length = int(data[2])\n",
    "\n",
    "list1 = list(map(int,data[1].split()))\n",
    "list2 = list(map(int,data[3].split()))\n",
    "\n",
    "list3 = list1 + list2\n",
    "list3.sort()\n",
    "\n",
    "list3_str = list(map(str, list3))\n",
    "result = \" \".join(list3_str)\n",
    "file.write(result)\n",
    "file.close()"
   ]
  },
  {
   "cell_type": "code",
   "execution_count": 91,
   "metadata": {},
   "outputs": [],
   "source": [
    "#O(n) Solution\n",
    "\n",
    "file = open(\"input2.txt\",\"r\")\n",
    "data = file.readlines()\n",
    "file.close()\n",
    "file = open(\"output2.txt\",\"w\")\n",
    "\n",
    "list1_length = int(data[0])\n",
    "list2_length = int(data[2])\n",
    "\n",
    "list1 = list(map(int,data[1].split()))\n",
    "list2 = list(map(int,data[3].split()))\n",
    "list3 = []\n",
    "\n",
    "i = 0\n",
    "j = 0\n",
    "\n",
    "while i != list1_length and j != list2_length:\n",
    "    if list1[i] <= list2[j]:\n",
    "        list3.append(list1[i])\n",
    "        i += 1\n",
    "    else:\n",
    "        list3.append(list2[j])\n",
    "        j += 1\n",
    "\n",
    "if i == list1_length:\n",
    "    list3 += list2[j:]\n",
    "elif j == list2_length:\n",
    "    list3 += list1[i:]\n",
    "\n",
    "list3_str = list(map(str, list3))\n",
    "result = \" \".join(list3_str)\n",
    "file.write(result)\n",
    "file.close()"
   ]
  }
 ],
 "metadata": {
  "kernelspec": {
   "display_name": "base",
   "language": "python",
   "name": "python3"
  },
  "language_info": {
   "codemirror_mode": {
    "name": "ipython",
    "version": 3
   },
   "file_extension": ".py",
   "mimetype": "text/x-python",
   "name": "python",
   "nbconvert_exporter": "python",
   "pygments_lexer": "ipython3",
   "version": "3.12.7"
  }
 },
 "nbformat": 4,
 "nbformat_minor": 2
}
