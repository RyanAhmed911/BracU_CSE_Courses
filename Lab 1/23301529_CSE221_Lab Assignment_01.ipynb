{
 "cells": [
  {
   "cell_type": "markdown",
   "metadata": {},
   "source": [
    "Task 1 (a)"
   ]
  },
  {
   "cell_type": "code",
   "execution_count": 27,
   "metadata": {},
   "outputs": [],
   "source": [
    "def odd_even():\n",
    "    file = open(\"input1a.txt\",\"r\")\n",
    "    data = file.readlines()\n",
    "    file.close()\n",
    "    file = open(\"output1a.txt\",\"w\")\n",
    "   \n",
    "    length = int(data[0])\n",
    "    for i in range(1, length+1):\n",
    "        if int(data[i])%2 == 0:\n",
    "            file.write(f\"{int(data[i])} is an Even number.\\n\")\n",
    "        else:\n",
    "            file.write(f\"{int(data[i])} is an Odd number.\\n\")\n",
    "    \n",
    "    file.close()\n",
    "\n",
    "odd_even()"
   ]
  },
  {
   "cell_type": "markdown",
   "metadata": {},
   "source": [
    "Task 1 (b)"
   ]
  },
  {
   "cell_type": "code",
   "execution_count": 28,
   "metadata": {},
   "outputs": [],
   "source": [
    "def calculator():\n",
    "    file = open(\"input1b.txt\",\"r\")\n",
    "    data = file.readlines()\n",
    "    file.close()\n",
    "    file = open(\"output1b.txt\",\"w\")\n",
    "    \n",
    "    length = int(data[0])\n",
    "    for i in range(1, length+1):\n",
    "        elem = data[i].split(\" \")\n",
    "        if elem[2] == '+':\n",
    "            file.write(f\"The result of {elem[1]} + {int(elem[3])} is {int(elem[1])+int(elem[3])}\\n\")\n",
    "        elif elem[2] == '-':\n",
    "            file.write(f\"The result of {elem[1]} - {int(elem[3])} is {int(elem[1])-int(elem[3])}\\n\")\n",
    "        elif elem[2] == '*':\n",
    "            file.write(f\"The result of {elem[1]} * {int(elem[3])} is {int(elem[1])*int(elem[3])}\\n\")\n",
    "        else:\n",
    "            file.write(f\"The result of {elem[1]} / {int(elem[3])} is {int(elem[1])/int(elem[3])}\\n\")\n",
    "    \n",
    "    file.close()\n",
    "\n",
    "calculator()"
   ]
  },
  {
   "cell_type": "markdown",
   "metadata": {},
   "source": [
    "Task 2"
   ]
  },
  {
   "cell_type": "code",
   "execution_count": 29,
   "metadata": {},
   "outputs": [],
   "source": [
    "import numpy as np\n",
    "\n",
    "def bubbleSort(arr):                                                    \n",
    "    for i in range(len(arr)-1):\n",
    "        is_sorted = True\n",
    "        for j in range(len(arr)-i-1): \n",
    "            if arr[j] > arr[j+1]:\n",
    "                arr[j], arr[j+1] = arr[j+1], arr[j]\n",
    "                is_sorted = False\n",
    "        if is_sorted == True:\n",
    "            break\n",
    "    return arr\n",
    "\n",
    "file = open(\"input2.txt\",\"r\")\n",
    "data = file.readlines()\n",
    "file.close()\n",
    "file = open(\"output2.txt\",\"w\")\n",
    "\n",
    "array_length = int(data[0])\n",
    "arr1 = np.zeros(array_length, dtype=int)\n",
    "\n",
    "number_list = data[1].split()\n",
    "\n",
    "for i in range(array_length):\n",
    "    arr1[i] = int(number_list[i])\n",
    "\n",
    "sorted_list = bubbleSort(arr1)\n",
    "\n",
    "file.write(str(sorted_list).strip(\"[ ]\"))\n",
    "file.close()"
   ]
  },
  {
   "cell_type": "markdown",
   "metadata": {},
   "source": [
    "Task 3"
   ]
  },
  {
   "cell_type": "code",
   "execution_count": 30,
   "metadata": {},
   "outputs": [],
   "source": [
    "class student:\n",
    "    def __init__(self):\n",
    "        self.ID = None\n",
    "        self.marks = None\n",
    "\n",
    "def selectionSort(arr):\n",
    "    for i in range(len(arr)):\n",
    "        max_index = i\n",
    "        for j in range(i+1, len(arr)):\n",
    "            if int(arr[j].marks) > int(arr[max_index].marks):\n",
    "                max_index = j\n",
    "        arr[i],arr[max_index] = arr[max_index],arr[i]\n",
    "    return arr\n",
    "\n",
    "file = open(\"input3.txt\",\"r\")\n",
    "data = file.readlines()\n",
    "file.close()\n",
    "file = open(\"output3.txt\",\"w\")\n",
    "\n",
    "\n",
    "n = int(data[0])\n",
    "\n",
    "student_list = np.zeros(n, dtype=object)\n",
    "\n",
    "ID_list = data[1].split()\n",
    "marks_list = data[2].split()\n",
    "\n",
    "for i in range(n):\n",
    "    student1 = student()\n",
    "    student1.ID = ID_list[i]\n",
    "    student1.marks = marks_list[i]\n",
    "    student_list[i] = student1\n",
    "\n",
    "sorted_by_marks = selectionSort(student_list)\n",
    "for i in range(n):\n",
    "    file.write(f\"ID: {sorted_by_marks[i].ID} Mark: {sorted_by_marks[i].marks}\\n\")\n",
    "\n",
    "file.close()"
   ]
  },
  {
   "cell_type": "markdown",
   "metadata": {},
   "source": [
    "Task 4"
   ]
  },
  {
   "cell_type": "code",
   "execution_count": 31,
   "metadata": {},
   "outputs": [],
   "source": [
    "class train:\n",
    "    def __init__(self):\n",
    "        self.name = None\n",
    "        self.departure = None\n",
    "        self.location = None\n",
    "\n",
    "def modified_bubbleSort(arr):\n",
    "    for i in range(len(arr)-1):\n",
    "        for j in range(len(arr)-i-1):\n",
    "            if arr[j].name > arr[j+1].name:\n",
    "                arr[j], arr[j+1] = arr[j+1], arr[j]\n",
    "            elif arr[j].name == arr[j+1].name:\n",
    "                if arr[j].departure < arr[j+1].departure:\n",
    "                    arr[j], arr[j+1] = arr[j+1], arr[j]   \n",
    "    return arr\n",
    "\n",
    "file = open(\"input4.txt\",\"r\")\n",
    "data = file.readlines()\n",
    "file.close()\n",
    "file = open(\"output4.txt\",\"w\")\n",
    "\n",
    "n = int(data[0])\n",
    "train_list = np.zeros(n, dtype = object)\n",
    "\n",
    "for i in range(1, n+1):\n",
    "    train1 = train()\n",
    "    train1.name = (data[i].split())[0]\n",
    "    train1.departure = (data[i].split())[6]\n",
    "    train1.location = (data[i].split())[4]\n",
    "    train_list[i-1] = train1\n",
    "\n",
    "sorted_list = modified_bubbleSort(train_list)\n",
    "\n",
    "for i in range(len(sorted_list)):\n",
    "    file.write(f\"{sorted_list[i].name} will departure for {sorted_list[i].location} at {sorted_list[i].departure}\\n\")\n",
    "\n",
    "file.close()"
   ]
  }
 ],
 "metadata": {
  "kernelspec": {
   "display_name": "base",
   "language": "python",
   "name": "python3"
  },
  "language_info": {
   "codemirror_mode": {
    "name": "ipython",
    "version": 3
   },
   "file_extension": ".py",
   "mimetype": "text/x-python",
   "name": "python",
   "nbconvert_exporter": "python",
   "pygments_lexer": "ipython3",
   "version": "3.12.7"
  }
 },
 "nbformat": 4,
 "nbformat_minor": 2
}
