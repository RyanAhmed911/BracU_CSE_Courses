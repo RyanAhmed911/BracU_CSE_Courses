{
 "cells": [
  {
   "cell_type": "code",
   "execution_count": 22,
   "metadata": {},
   "outputs": [
    {
     "data": {
      "text/plain": [
       "9"
      ]
     },
     "execution_count": 22,
     "metadata": {},
     "output_type": "execute_result"
    }
   ],
   "source": [
    "import numpy as np\n",
    "\n",
    "arr1 = np.array([1,3,4,5,9,6,2,-1])\n",
    "\n",
    "def modified_binarySearch(arr):\n",
    "    low = 0\n",
    "    high = len(arr) - 1\n",
    "\n",
    "    while low <= high:\n",
    "        mid = (high + low)//2\n",
    "        if mid != high:\n",
    "            if arr[mid] > arr[mid-1] and arr[mid] > arr[mid+1]:\n",
    "                return arr[mid]\n",
    "            elif arr[mid] > arr[mid-1] and arr[mid] < arr[mid+1]:\n",
    "                low = mid+1\n",
    "            else:\n",
    "                high = mid-1\n",
    "        else:\n",
    "            return arr[mid]\n",
    "\n",
    "modified_binarySearch(arr1)"
   ]
  },
  {
   "cell_type": "code",
   "execution_count": 26,
   "metadata": {},
   "outputs": [
    {
     "data": {
      "text/plain": [
       "5"
      ]
     },
     "execution_count": 26,
     "metadata": {},
     "output_type": "execute_result"
    }
   ],
   "source": [
    "def LinearSearchToFindSquareRoot(key):\n",
    "\tresult = -1\n",
    "\tfor i in range(1, key, 1):\n",
    "\t\tif i * i <= key:\n",
    "\t\t\tresult = i\n",
    "\t\telse:\n",
    "\t\t\tbreak\n",
    "\treturn result\n",
    "\n",
    "LinearSearchToFindSquareRoot(25)"
   ]
  },
  {
   "cell_type": "code",
   "execution_count": null,
   "metadata": {},
   "outputs": [
    {
     "data": {
      "text/plain": [
       "5"
      ]
     },
     "execution_count": 29,
     "metadata": {},
     "output_type": "execute_result"
    }
   ],
   "source": [
    "def LinearSearchToFindSquareRoot(key):\n",
    "    low = 1\n",
    "    high = key\n",
    "    result = -1 \n",
    "\n",
    "    while low <= high:\n",
    "        mid = (high + low)//2\n",
    "\n",
    "        if mid*mid == key:\n",
    "            result = mid\n",
    "            return result\n",
    "        \n",
    "        elif mid*mid < key:\n",
    "            result = mid\n",
    "            low = mid+1\n",
    "\n",
    "        else:\n",
    "            high = mid-1\n",
    "            \n",
    "    return result\n",
    "\n",
    "LinearSearchToFindSquareRoot(25)"
   ]
  },
  {
   "cell_type": "code",
   "execution_count": null,
   "metadata": {},
   "outputs": [],
   "source": []
  }
 ],
 "metadata": {
  "kernelspec": {
   "display_name": "base",
   "language": "python",
   "name": "python3"
  },
  "language_info": {
   "codemirror_mode": {
    "name": "ipython",
    "version": 3
   },
   "file_extension": ".py",
   "mimetype": "text/x-python",
   "name": "python",
   "nbconvert_exporter": "python",
   "pygments_lexer": "ipython3",
   "version": "3.12.7"
  }
 },
 "nbformat": 4,
 "nbformat_minor": 2
}
