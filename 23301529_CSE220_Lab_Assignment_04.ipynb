{
  "nbformat": 4,
  "nbformat_minor": 0,
  "metadata": {
    "colab": {
      "provenance": []
    },
    "kernelspec": {
      "name": "python3",
      "display_name": "Python 3"
    },
    "language_info": {
      "name": "python"
    }
  },
  "cells": [
    {
      "cell_type": "code",
      "execution_count": 1,
      "metadata": {
        "id": "Pp1R95Pe7ID2",
        "colab": {
          "base_uri": "https://localhost:8080/"
        },
        "outputId": "63ba6743-c348-486b-ee30-8f3177807754"
      },
      "outputs": [
        {
          "output_type": "stream",
          "name": "stdout",
          "text": [
            "Collecting fhm-unittest\n",
            "  Downloading fhm_unittest-1.0.1-py3-none-any.whl (2.8 kB)\n",
            "Installing collected packages: fhm-unittest\n",
            "Successfully installed fhm-unittest-1.0.1\n",
            "Collecting fuzzywuzzy\n",
            "  Downloading fuzzywuzzy-0.18.0-py2.py3-none-any.whl (18 kB)\n",
            "Installing collected packages: fuzzywuzzy\n",
            "Successfully installed fuzzywuzzy-0.18.0\n"
          ]
        },
        {
          "output_type": "stream",
          "name": "stderr",
          "text": [
            "/usr/local/lib/python3.10/dist-packages/fuzzywuzzy/fuzz.py:11: UserWarning: Using slow pure-python SequenceMatcher. Install python-Levenshtein to remove this warning\n",
            "  warnings.warn('Using slow pure-python SequenceMatcher. Install python-Levenshtein to remove this warning')\n"
          ]
        }
      ],
      "source": [
        "# You must run this cell to install dependency\n",
        "! pip3 install fhm-unittest\n",
        "! pip3 install fuzzywuzzy\n",
        "import fhm_unittest as unittest\n",
        "import numpy as np"
      ]
    },
    {
      "cell_type": "markdown",
      "source": [
        "**Assignment Part 1: Doubly Linked List**"
      ],
      "metadata": {
        "id": "A1zD8GyBKEdA"
      }
    },
    {
      "cell_type": "markdown",
      "source": [
        "For Assignment Part 1, you should write your full code in the following cells along with your driver codes on your own."
      ],
      "metadata": {
        "id": "z4q4a-vSNoII"
      }
    },
    {
      "cell_type": "code",
      "source": [
        "#Assignment Part 1\n",
        "\n",
        "class Patient:\n",
        "  #write a constructor\n",
        "  def __init__(self, id, name, age, bloodgroup, next = None, prev = None):\n",
        "    self.id = id\n",
        "    self.name = name\n",
        "    self.age = age\n",
        "    self.bloodgroup = bloodgroup\n",
        "    self.next = next\n",
        "    self.prev = prev\n"
      ],
      "metadata": {
        "id": "itoWpG7oNziA"
      },
      "execution_count": 52,
      "outputs": []
    },
    {
      "cell_type": "code",
      "source": [
        "class WRM:\n",
        "  #write a constructor\n",
        "  def __init__(self):\n",
        "    self.head = Patient(id = None, name = None, age = None, bloodgroup = None, next = None, prev = None)\n",
        "    self.head.next = self.head\n",
        "    self.head.prev = self.head\n",
        "\n",
        "  def registerPatient(self, id, name, age, bloodgroup):\n",
        "    #To Do\n",
        "    patient = Patient(id, name, age, bloodgroup)\n",
        "    temp = self.head.next\n",
        "    while temp.next != self.head:\n",
        "        temp = temp.next\n",
        "    temp.next = patient\n",
        "    patient.prev = temp\n",
        "    patient.next = self.head\n",
        "    self.head.prev = patient\n",
        "    return self.head\n",
        "\n",
        "  def servePatient(self):\n",
        "    #To Do\n",
        "    temp = self.head.next\n",
        "    pred = temp.prev\n",
        "    succ = temp.next\n",
        "    pred.next = succ\n",
        "    succ.prev = pred\n",
        "    temp.prev = None\n",
        "    temp.next = None\n",
        "    return temp\n",
        "\n",
        "  def showAllPatient(self):\n",
        "    #To Do\n",
        "    temp = self.head.next\n",
        "    while temp != self.head:\n",
        "        print(temp.id, end = \" \")\n",
        "        temp = temp.next\n",
        "    print()\n",
        "\n",
        "  def canDoctorGoHome(self):\n",
        "    #To Do\n",
        "    if self.head == self.head.next:\n",
        "        return True\n",
        "    return False\n",
        "\n",
        "  def cancelAll(self):\n",
        "    #To Do\n",
        "    self.head.next = self.head\n",
        "    self.head.prev = self.head\n",
        "    return self.head\n",
        "\n",
        "  def ReverseTheLine(self):\n",
        "    #To Do\n",
        "    temp = self.head.next\n",
        "    while True:\n",
        "      temp.prev, temp.next = temp.next, temp.prev\n",
        "      if temp == self.head:\n",
        "        break\n",
        "      temp = temp.prev\n",
        "    return self.head\n"
      ],
      "metadata": {
        "id": "dNx7zTJ1OZNv"
      },
      "execution_count": 53,
      "outputs": []
    },
    {
      "cell_type": "code",
      "source": [
        "#Write a Tester Code in this cell\n",
        "print(\"**Welcome to Waiting Room Management System**\")\n",
        "wrm = WRM()\n",
        "while True:\n",
        "    print(\"==========================\")\n",
        "    print(\"Choose an Option:\")\n",
        "    print(\"1. Register a Patient\")\n",
        "    print(\"2. Serve a Patient\")\n",
        "    print(\"3. Cancel all Appointments\")\n",
        "    print(\"4. Can the Doctor go Home?\")\n",
        "    print(\"5. Show all Patients\")\n",
        "    print(\"6. Reverse The Line()\")\n",
        "    print(\"7. Exit\")\n",
        "    print(\"==========================\")\n",
        "    print()\n",
        "    user = int(input(\"Enter the corresponding number: \"))\n",
        "    if user == 7:\n",
        "        break\n",
        "    elif user == 1:\n",
        "        id = int(input(\"Enter Patient's ID: \"))\n",
        "        name = str(input(\"Enter Patient's Name: \"))\n",
        "        age = int(input(\"Enter Patient's Age: \"))\n",
        "        bloodgroup = str(input(\"Enter Patient's Blood Group: \"))\n",
        "        print()\n",
        "        register = wrm.registerPatient(id, name, age, bloodgroup)\n",
        "        print(\"================================\")\n",
        "        print(\"Patient registration successful.\")\n",
        "        print(\"================================\")\n",
        "    elif user == 2:\n",
        "        if wrm.head.next == wrm.head:\n",
        "            print()\n",
        "            print(\"===============================\")\n",
        "            print(\"There are No Patients to serve.\")\n",
        "            print(\"===============================\")\n",
        "        else:\n",
        "            served = wrm.servePatient()\n",
        "            print()\n",
        "            print(\"=========================\")\n",
        "            print(f\"{served.name} is served.\")\n",
        "            print(\"=========================\")\n",
        "    elif user == 3:\n",
        "        if wrm.head.next == wrm.head:\n",
        "            print()\n",
        "            print(\"=================================================\")\n",
        "            print(\"Cancellation unsuccessful. There are no patients.\")\n",
        "            print(\"=================================================\")\n",
        "        else:\n",
        "            cancel = wrm.cancelAll()\n",
        "            print()\n",
        "            print(\"===========================\")\n",
        "            print(\"All appointments cancelled.\")\n",
        "            print(\"===========================\")\n",
        "    elif user == 4:\n",
        "        status = wrm.canDoctorGoHome()\n",
        "        if status == True:\n",
        "            print()\n",
        "            print(\"============================\")\n",
        "            print(\"Yes. The Doctor can go home.\")\n",
        "            print(\"============================\")\n",
        "        else:\n",
        "            print()\n",
        "            print(\"=============================\")\n",
        "            print(\"No. The Doctor can't go home.\")\n",
        "            print(\"=============================\")\n",
        "    elif user == 5:\n",
        "        if wrm.head.next == wrm.head:\n",
        "            print()\n",
        "            print(\"======================\")\n",
        "            print(\"Waiting list is empty.\")\n",
        "            print(\"======================\")\n",
        "        else:\n",
        "            print()\n",
        "            print(\"======================================\")\n",
        "            print(\"ID's of the Patients in waiting list: \", end = \"\")\n",
        "            show = wrm.showAllPatient()\n",
        "            print(\"======================================\")\n",
        "    elif user == 6:\n",
        "        if wrm.head.next == wrm.head:\n",
        "            print()\n",
        "            print(\"==============================================\")\n",
        "            print(\"Reversing unsuccessful. There are no patients.\")\n",
        "            print(\"==============================================\")\n",
        "        else:\n",
        "            reverse = wrm.ReverseTheLine()\n",
        "            print()\n",
        "            print(\"===========================\")\n",
        "            print(\"The line has been reversed.\")\n",
        "            print(\"===========================\")\n"
      ],
      "metadata": {
        "id": "jKhbn1LAPfjr",
        "colab": {
          "base_uri": "https://localhost:8080/"
        },
        "outputId": "d9c5b9cb-337b-4da3-edd3-d8a7a6c135e4"
      },
      "execution_count": 55,
      "outputs": [
        {
          "name": "stdout",
          "output_type": "stream",
          "text": [
            "**Welcome to Waiting Room Management System**\n",
            "==========================\n",
            "Choose an Option:\n",
            "1. Register a Patient\n",
            "2. Serve a Patient\n",
            "3. Cancel all Appointments\n",
            "4. Can the Doctor go Home?\n",
            "5. Show all Patients\n",
            "6. Reverse The Line()\n",
            "7. Exit\n",
            "==========================\n",
            "\n",
            "Enter the corresponding number: 7\n"
          ]
        }
      ]
    },
    {
      "cell_type": "markdown",
      "source": [
        "**Assignment Part 2: Stack**\n",
        "\n",
        "Linked List based Stack is implemented in the following cell."
      ],
      "metadata": {
        "id": "CJWd_j6YEnPn"
      }
    },
    {
      "cell_type": "code",
      "source": [
        "class Node:\n",
        "  def __init__(self,elem=None,next=None):\n",
        "    self.elem = elem\n",
        "    self.next = next\n",
        "\n",
        "class Stack:\n",
        "  def __init__(self):\n",
        "    self.__top = None\n",
        "\n",
        "  def push(self,elem):\n",
        "    nn = Node(elem,self.__top)\n",
        "    self.__top = nn\n",
        "\n",
        "  def pop(self):\n",
        "    if self.__top == None:\n",
        "      #print('Stack Underflow')\n",
        "      return None\n",
        "    e = self.__top\n",
        "    self.__top = self.__top.next\n",
        "    return e.elem\n",
        "\n",
        "  def peek(self):\n",
        "    if self.__top == None:\n",
        "      #print('Stack Underflow')\n",
        "      return None\n",
        "    return self.__top.elem\n",
        "\n",
        "  def isEmpty(self):\n",
        "    return self.__top == None\n"
      ],
      "metadata": {
        "id": "KHLhs5x0D-O6"
      },
      "execution_count": 60,
      "outputs": []
    },
    {
      "cell_type": "code",
      "source": [
        "#You can run this driver code cell to understand the methods of Stack class\n",
        "st = Stack()\n",
        "st.push(4)\n",
        "st.push(3)\n",
        "st.push(5)\n",
        "st.push(1)\n",
        "st.push(9)\n",
        "\n",
        "print('Peeked Element: ',st.peek())\n",
        "print('Popped Element: ',st.pop())\n",
        "print('Popped Element: ',st.pop())\n",
        "print('Popped Element: ',st.pop())\n",
        "print('Peeked Element: ',st.peek())\n",
        "print('Popped Element: ',st.pop())\n",
        "print('Popped Element: ',st.pop())\n",
        "print('Peeked Element: ',st.peek())\n",
        "print('Popped Element: ',st.pop())\n",
        "print(st.isEmpty())"
      ],
      "metadata": {
        "id": "4XkuMA7gEjE7",
        "colab": {
          "base_uri": "https://localhost:8080/"
        },
        "outputId": "fc4b86f0-bb41-4b9a-8e6e-2d7bbf544a0e"
      },
      "execution_count": 61,
      "outputs": [
        {
          "output_type": "stream",
          "name": "stdout",
          "text": [
            "Peeked Element:  9\n",
            "Popped Element:  9\n",
            "Popped Element:  1\n",
            "Popped Element:  5\n",
            "Peeked Element:  3\n",
            "Popped Element:  3\n",
            "Popped Element:  4\n",
            "Peeked Element:  None\n",
            "Popped Element:  None\n",
            "True\n"
          ]
        }
      ]
    },
    {
      "cell_type": "markdown",
      "source": [
        "You can print your stack using this code segment"
      ],
      "metadata": {
        "id": "xrfONLccG9Gi"
      }
    },
    {
      "cell_type": "code",
      "source": [
        "def print_stack(st):\n",
        "  if st.isEmpty():\n",
        "    return\n",
        "  p = st.pop()\n",
        "  print('|',p,end=' ')\n",
        "  if p<10:\n",
        "    print(' |')\n",
        "  else:\n",
        "    print('|')\n",
        "  #print('------')\n",
        "  print_stack(st)\n",
        "  st.push(p)\n",
        "\n",
        "st = Stack()\n",
        "st.push(4)\n",
        "st.push(3)\n",
        "st.push(5)\n",
        "st.push(1)\n",
        "st.push(9)\n",
        "print_stack(st)\n",
        "print('------')"
      ],
      "metadata": {
        "id": "S-EembO_GsWA",
        "colab": {
          "base_uri": "https://localhost:8080/"
        },
        "outputId": "b7f75863-0b60-4286-98d0-6d3c80ab1a16"
      },
      "execution_count": 63,
      "outputs": [
        {
          "output_type": "stream",
          "name": "stdout",
          "text": [
            "| 9  |\n",
            "| 1  |\n",
            "| 5  |\n",
            "| 3  |\n",
            "| 4  |\n",
            "------\n"
          ]
        }
      ]
    },
    {
      "cell_type": "markdown",
      "source": [
        "Task 1: Diamond Count"
      ],
      "metadata": {
        "id": "iNMnfqqpIga2"
      }
    },
    {
      "cell_type": "code",
      "source": [
        "def diamond_count(stack,string):\n",
        "    #TO DO\n",
        "    count = 0\n",
        "    for i in string:\n",
        "        if i == \"<\":\n",
        "            stack.push(i)\n",
        "        if i == \">\":\n",
        "            if stack.peek() == \"<\":\n",
        "                count += 1\n",
        "                stack.pop()\n",
        "    return count\n",
        "\n",
        "print('Test 01')\n",
        "stack = Stack()\n",
        "string = '<..><.<..>> '\n",
        "returned_value = diamond_count(stack,string)\n",
        "print(f'Number of Diamonds: {returned_value}') #This should print 3\n",
        "unittest.output_test(returned_value, 3)\n",
        "print('-----------------------------------------')\n",
        "\n",
        "\n",
        "print('Test 02')\n",
        "stack = Stack()\n",
        "string = '<<<..<......<<<<....>'\n",
        "returned_value = diamond_count(stack,string)\n",
        "print(f'Number of Diamonds: {returned_value}') #This should print 1\n",
        "unittest.output_test(returned_value, 1)\n",
        "print('-----------------------------------------')\n",
        "\n",
        "\n",
        "print('Test 03')\n",
        "stack = Stack()\n",
        "string = '>>><...<<..>>...>...>>>'\n",
        "returned_value = diamond_count(stack,string)\n",
        "print(f'Number of Diamonds: {returned_value}') #This should print 3\n",
        "unittest.output_test(returned_value, 3)\n",
        "print('-----------------------------------------')"
      ],
      "metadata": {
        "id": "GnX70OIvG_gZ",
        "colab": {
          "base_uri": "https://localhost:8080/"
        },
        "outputId": "b0667d4f-346a-4929-cecf-d0519246ce3c"
      },
      "execution_count": 64,
      "outputs": [
        {
          "output_type": "stream",
          "name": "stdout",
          "text": [
            "Test 01\n",
            "Number of Diamonds: 3\n",
            "Accepted\n",
            "-----------------------------------------\n",
            "Test 02\n",
            "Number of Diamonds: 1\n",
            "Accepted\n",
            "-----------------------------------------\n",
            "Test 03\n",
            "Number of Diamonds: 3\n",
            "Accepted\n",
            "-----------------------------------------\n"
          ]
        }
      ]
    },
    {
      "cell_type": "markdown",
      "source": [
        "Task 2: Tower of Blocks"
      ],
      "metadata": {
        "id": "PhCF3SZ6IX5g"
      }
    },
    {
      "cell_type": "code",
      "source": [
        "def remove_block(stack, n):\n",
        "    #TO DO\n",
        "    backup = Stack()\n",
        "    for i in range(n):\n",
        "        temp = stack.pop()\n",
        "        backup.push(temp)\n",
        "    backup.pop()\n",
        "    for i in range(n-1):\n",
        "        temp = backup.pop()\n",
        "        stack.push(temp)\n",
        "    return stack\n",
        "\n",
        "print('Test 01')\n",
        "st = Stack()\n",
        "st.push(4)\n",
        "st.push(19)\n",
        "st.push(23)\n",
        "st.push(17)\n",
        "st.push(5)\n",
        "print('Stack:')\n",
        "print_stack(st)\n",
        "print('------')\n",
        "remove_block(st,2)\n",
        "print('After Removal')\n",
        "print_stack(st)\n",
        "print('------')\n",
        "\n",
        "print()\n",
        "print('======================================')\n",
        "print()\n",
        "\n",
        "print('Test 02')\n",
        "st = Stack()\n",
        "st.push(73)\n",
        "st.push(85)\n",
        "st.push(15)\n",
        "st.push(41)\n",
        "print('Stack:')\n",
        "print_stack(st)\n",
        "print('------')\n",
        "remove_block(st,3)\n",
        "print('After Removal')\n",
        "print_stack(st)\n",
        "print('------')\n",
        "\n",
        "print()\n",
        "print('======================================')\n",
        "print()"
      ],
      "metadata": {
        "id": "W3N4q7YAHExr",
        "colab": {
          "base_uri": "https://localhost:8080/"
        },
        "outputId": "69ab82fc-4139-412e-f0c3-2038ceaea942"
      },
      "execution_count": 65,
      "outputs": [
        {
          "output_type": "stream",
          "name": "stdout",
          "text": [
            "Test 01\n",
            "Stack:\n",
            "| 5  |\n",
            "| 17 |\n",
            "| 23 |\n",
            "| 19 |\n",
            "| 4  |\n",
            "------\n",
            "After Removal\n",
            "| 5  |\n",
            "| 23 |\n",
            "| 19 |\n",
            "| 4  |\n",
            "------\n",
            "\n",
            "======================================\n",
            "\n",
            "Test 02\n",
            "Stack:\n",
            "| 41 |\n",
            "| 15 |\n",
            "| 85 |\n",
            "| 73 |\n",
            "------\n",
            "After Removal\n",
            "| 41 |\n",
            "| 15 |\n",
            "| 73 |\n",
            "------\n",
            "\n",
            "======================================\n",
            "\n"
          ]
        }
      ]
    },
    {
      "cell_type": "markdown",
      "source": [
        "Task 3: Stack Reverse"
      ],
      "metadata": {
        "id": "jcngRuqUWOfl"
      }
    },
    {
      "cell_type": "code",
      "source": [
        "def conditional_reverse(stack):\n",
        "    #To Do\n",
        "    new = Stack()\n",
        "    while stack.isEmpty() == False:\n",
        "        hold = stack.pop()\n",
        "        if stack.peek() != hold:\n",
        "            new.push(hold)\n",
        "    return new\n",
        "\n",
        "print('Test 01')\n",
        "st=Stack()\n",
        "st.push(10)\n",
        "st.push(10)\n",
        "st.push(20)\n",
        "st.push(20)\n",
        "st.push(30)\n",
        "st.push(10)\n",
        "st.push(50)\n",
        "print('Stack:')\n",
        "print_stack(st)\n",
        "print('------')\n",
        "reversed_stack=conditional_reverse(st)\n",
        "print('Conditional Reversed Stack:')\n",
        "print_stack(reversed_stack) # This stack contains 50, 10, 30, 20, 10 in this order whereas top element should be 10\n",
        "print('------')"
      ],
      "metadata": {
        "id": "gLSgfDKPWPnP",
        "colab": {
          "base_uri": "https://localhost:8080/"
        },
        "outputId": "d1387934-1527-4c7c-aac3-3dbe8d2d8e0e"
      },
      "execution_count": 66,
      "outputs": [
        {
          "output_type": "stream",
          "name": "stdout",
          "text": [
            "Test 01\n",
            "Stack:\n",
            "| 50 |\n",
            "| 10 |\n",
            "| 30 |\n",
            "| 20 |\n",
            "| 20 |\n",
            "| 10 |\n",
            "| 10 |\n",
            "------\n",
            "Conditional Reversed Stack:\n",
            "| 10 |\n",
            "| 20 |\n",
            "| 30 |\n",
            "| 10 |\n",
            "| 50 |\n",
            "------\n"
          ]
        }
      ]
    }
  ]
}