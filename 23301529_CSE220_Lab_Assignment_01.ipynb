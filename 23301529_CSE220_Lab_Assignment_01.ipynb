{
  "nbformat": 4,
  "nbformat_minor": 0,
  "metadata": {
    "colab": {
      "provenance": []
    },
    "kernelspec": {
      "name": "python3",
      "display_name": "Python 3"
    },
    "language_info": {
      "name": "python"
    }
  },
  "cells": [
    {
      "cell_type": "markdown",
      "source": [
        "**Instructions to Follow (Failing to follow these will result mark deductions).**\n",
        "1. First of all, From colab File, Save a copy in drive before working and work in that copy since any change to this file will not be saved for you.\n",
        "2. You can not use any built-in function except len()\n",
        "\n",
        "3. You can not use any other python collections except array (e.g: tuple, dictionaries etc.).\n",
        "\n",
        "4. We will initialize a new array using numpy library. We have to mention the fixed size during initialization. There might be 4 approaches.\n",
        "\n",
        " i. arr = np.array([None] * 10) #Initializing an array length 10 with values None.\n",
        "\n",
        " ii. arr = np.array([0] * 10) #Initializing an array length 10 with values zero.\n",
        "\n",
        " iii. arr = np.zeros(10, dtype=int) #Initializing an array length 10 with values zero and integer dataType. By default, dtype is float.\n",
        "\n",
        " iv. arr = np.array([10, 20, 30, 40]) #Initializing an array length 4 with the values.\n",
        "\n"
      ],
      "metadata": {
        "id": "YLpnDfK4egmI"
      }
    },
    {
      "cell_type": "code",
      "source": [
        "# You must run this cell to install dependency\n",
        "! pip3 install fhm-unittest\n",
        "! pip3 install fuzzywuzzy\n",
        "import fhm_unittest as unittest\n",
        "import numpy as np"
      ],
      "metadata": {
        "id": "rSkZFFD4ej5o",
        "colab": {
          "base_uri": "https://localhost:8080/"
        },
        "outputId": "dbc960ab-f526-42d6-cfaf-2a957d43fd89"
      },
      "execution_count": 1,
      "outputs": [
        {
          "output_type": "stream",
          "name": "stdout",
          "text": [
            "Collecting fhm-unittest\n",
            "  Downloading fhm_unittest-1.0.1-py3-none-any.whl (2.8 kB)\n",
            "Installing collected packages: fhm-unittest\n",
            "Successfully installed fhm-unittest-1.0.1\n",
            "Collecting fuzzywuzzy\n",
            "  Downloading fuzzywuzzy-0.18.0-py2.py3-none-any.whl (18 kB)\n",
            "Installing collected packages: fuzzywuzzy\n",
            "Successfully installed fuzzywuzzy-0.18.0\n"
          ]
        },
        {
          "output_type": "stream",
          "name": "stderr",
          "text": [
            "/usr/local/lib/python3.10/dist-packages/fuzzywuzzy/fuzz.py:11: UserWarning: Using slow pure-python SequenceMatcher. Install python-Levenshtein to remove this warning\n",
            "  warnings.warn('Using slow pure-python SequenceMatcher. Install python-Levenshtein to remove this warning')\n"
          ]
        }
      ]
    },
    {
      "cell_type": "code",
      "source": [],
      "metadata": {
        "id": "jmbnwVOcyzBB"
      },
      "execution_count": 1,
      "outputs": []
    },
    {
      "cell_type": "markdown",
      "source": [
        "You will see the status Accepted after completion if your code is correct.\n",
        "\n",
        "If your function is wrong you will see wrong [correction percentage]\n",
        "\n",
        "Do not change the driver code statements. You can only change the input values to test your code."
      ],
      "metadata": {
        "id": "z-BkkdfjgR6P"
      }
    },
    {
      "cell_type": "code",
      "source": [
        "#Assignment Part-2\n",
        "#Complete the following 4 methods(Mandatory) and one bonus(optional)task for part-2"
      ],
      "metadata": {
        "id": "ebuGnEPwttQ0"
      },
      "execution_count": 2,
      "outputs": []
    },
    {
      "cell_type": "code",
      "source": [
        "#Task 01: Merge Lineup\n",
        "def mergeLineup(pokemon_1, pokemon_2):\n",
        "    result = np.array([0]*len(pokemon_1))\n",
        "    index1 = 0\n",
        "    index2 = len(pokemon_2)-1\n",
        "    while index1 < len(pokemon_1):\n",
        "        if pokemon_1[index1] == None:\n",
        "            pokemon_1[index1] = 0\n",
        "        if pokemon_2[index2] == None:\n",
        "            pokemon_2[index2] = 0\n",
        "        result[index1] = pokemon_1[index1] + pokemon_2[index2]\n",
        "        index1 += 1\n",
        "        index2 -= 1\n",
        "    return result\n",
        "\n",
        "print(\"///  Task 01: Merge Lineup  ///\")\n",
        "pokemon_1 = np.array([12, 3, 25, 1, None])\n",
        "pokemon_2 = np.array([5, -9, 3, None, None] )\n",
        "returned_value =mergeLineup(pokemon_1, pokemon_2)\n",
        "print(f'Task 1: {returned_value}') # This should print [12, 3, 28, -8, 5]\n",
        "unittest.output_test(returned_value, np.array([12, 3, 28, -8, 5]))\n",
        "pokemon_1 = np.array([4, 5, -1, None, None])\n",
        "pokemon_2 = np.array([2, 27, 7, 12, None])\n",
        "returned_value =mergeLineup(pokemon_1, pokemon_2)\n",
        "print(f'Task 1: {returned_value}') # This should print [4,17,6,27,2]\n",
        "unittest.output_test(returned_value, np.array([4,17,6,27,2]))"
      ],
      "metadata": {
        "id": "ZVbY0rzKgRgC",
        "colab": {
          "base_uri": "https://localhost:8080/"
        },
        "outputId": "604c540d-7529-4e12-8842-ec83c77acf1c"
      },
      "execution_count": 3,
      "outputs": [
        {
          "output_type": "stream",
          "name": "stdout",
          "text": [
            "///  Task 01: Merge Lineup  ///\n",
            "Task 1: [12  3 28 -8  5]\n",
            "Accepted\n",
            "Task 1: [ 4 17  6 27  2]\n",
            "Accepted\n"
          ]
        }
      ]
    },
    {
      "cell_type": "code",
      "source": [
        "# Task 02: Discard Cards\n",
        "\n",
        "def discardCards(cards, t):\n",
        "    new_arr = np.zeros(len(cards), dtype = int)\n",
        "    new_index = 0\n",
        "    counter = 0\n",
        "    for i in range(len(cards)):\n",
        "        if cards[i] != t:\n",
        "            new_arr[new_index] = cards[i]\n",
        "            new_index += 1\n",
        "        else:\n",
        "            counter += 1\n",
        "            if counter%2 == 0:\n",
        "                new_arr[new_index] = cards[i]\n",
        "                new_index += 1\n",
        "    return new_arr\n",
        "\n",
        "print(\"///  Task 02: Discard Cards  ///\")\n",
        "cards = np.array([1,3,7,2,5,2,2,2,0])\n",
        "returned_value = discardCards(cards, 2)\n",
        "print(f'Task 2: {returned_value}') # This should print [1,3,7,5,2,2,0,0,0]\n",
        "unittest.output_test(returned_value, np.array([1,3,7,5,2,2,0,0,0]))\n",
        "\n",
        "cards = np.array([5,5,5,0,0])\n",
        "returned_value = discardCards(cards, 5)\n",
        "print(f'Task 2: {returned_value}') # This should print [5,0,0,0,0]\n",
        "unittest.output_test(returned_value, np.array([5,0,0,0,0]))"
      ],
      "metadata": {
        "id": "rzaysRSshRbM",
        "colab": {
          "base_uri": "https://localhost:8080/"
        },
        "outputId": "14e9647b-4bcd-44b5-91f6-2995021a3a9b"
      },
      "execution_count": 4,
      "outputs": [
        {
          "output_type": "stream",
          "name": "stdout",
          "text": [
            "///  Task 02: Discard Cards  ///\n",
            "Task 2: [1 3 7 5 2 2 0 0 0]\n",
            "Accepted\n",
            "Task 2: [5 0 0 0 0]\n",
            "Accepted\n"
          ]
        }
      ]
    },
    {
      "cell_type": "code",
      "source": [
        "# Task 03: DUBER Fare Splitting\n",
        "def findGroups(money, fare):\n",
        "    grp_counter = 0\n",
        "    for i in range(len(money)):\n",
        "        if money[i] == fare:\n",
        "            grp_counter += 1\n",
        "            print(f\"Group {grp_counter} : {money[i]}\")\n",
        "            money[i] = 0\n",
        "        else:\n",
        "            for j in range(len(money)):\n",
        "                if (money[i] + money[j]) == fare and i != j:\n",
        "                    grp_counter += 1\n",
        "                    print(f\"Group {grp_counter} : {money[i]}, {money[j]}\")\n",
        "                    money[i] = 0\n",
        "                    money[j] = 0\n",
        "    ungrp_counter = 0\n",
        "    for i in range(len(money)):\n",
        "        if money[i] != 0:\n",
        "            ungrp_counter += 1\n",
        "    if ungrp_counter > 0:\n",
        "        ungrp_arr = np.zeros(ungrp_counter, dtype = int)\n",
        "        index = 0\n",
        "        for i in range(len(money)):\n",
        "            if money[i] != 0:\n",
        "                ungrp_arr[index] = money[i]\n",
        "                index += 1\n",
        "        print(\"Ungrouped: \", end=\"\")\n",
        "        for i in range(len(ungrp_arr)):\n",
        "            print(ungrp_arr[i], end=\" \")\n",
        "\n",
        "print(\"///  Task 03: DUBER Fare Splitting  ///\")\n",
        "money = np.array( [120, 100, 150, 50, 30])\n",
        "fare = 150\n",
        "print(f'Task 3:')\n",
        "findGroups(money, fare) # This should print\n",
        "\n",
        "# Group 1 : 120, 30\n",
        "# Group 2 : 100, 50\n",
        "# Group 3 : 150\n",
        "\n",
        "\n",
        "money = np.array( [60, 150, 60, 30, 120, 30])\n",
        "fare = 180\n",
        "print(f'Task 3:')\n",
        "findGroups(money, fare) # This should print\n",
        "\n",
        "# Group 1 : 60, 120\n",
        "# Group 2 : 30, 150\n",
        "# Ungrouped : 30 60"
      ],
      "metadata": {
        "id": "CYtNF5M8itbB",
        "colab": {
          "base_uri": "https://localhost:8080/"
        },
        "outputId": "7e482b69-f015-4555-a360-52d95145a22a"
      },
      "execution_count": 5,
      "outputs": [
        {
          "output_type": "stream",
          "name": "stdout",
          "text": [
            "///  Task 03: DUBER Fare Splitting  ///\n",
            "Task 3:\n",
            "Group 1 : 120, 30\n",
            "Group 2 : 100, 50\n",
            "Group 3 : 150\n",
            "Task 3:\n",
            "Group 1 : 60, 120\n",
            "Group 2 : 150, 30\n",
            "Ungrouped: 60 30 "
          ]
        }
      ]
    },
    {
      "cell_type": "code",
      "source": [
        "def analyzeHobbies(* participants): #(* arguments) is used for variable number of parameters\n",
        "    total = 0\n",
        "    for array in participants:\n",
        "        total += len(array)\n",
        "    total_arr = np.array([None]*total)\n",
        "    index = 0\n",
        "    for array in participants:\n",
        "        for element in array:\n",
        "            total_arr[index] = element\n",
        "            index += 1\n",
        "    unique_arr = np.array([None]*total)\n",
        "    unique_index = 0\n",
        "    for i in range(len(total_arr)):\n",
        "        duplicate = False\n",
        "        for j in range(len(unique_arr)):\n",
        "            if total_arr[i] == unique_arr[j]:\n",
        "                duplicate = True\n",
        "        if duplicate == False:\n",
        "            unique_arr[unique_index] = total_arr[i]\n",
        "            unique_index += 1\n",
        "    count = 0\n",
        "    for i in range(len(unique_arr)):\n",
        "        if unique_arr[i] != None:\n",
        "            count += 1\n",
        "    result = np.array([None]*count)\n",
        "    result_index = 0\n",
        "    for i in range(len(unique_arr)):\n",
        "        if unique_arr[i] != None:\n",
        "            result[result_index] = unique_arr[i]\n",
        "            result_index += 1\n",
        "    print(\"Unique Activities in the Town:\")\n",
        "    print(result)\n",
        "    print()\n",
        "    print(\"Statistics:\")\n",
        "    for i in range(len(result)):\n",
        "        count = 0\n",
        "        for j in range(len(total_arr)):\n",
        "            if result[i] == total_arr[j]:\n",
        "                count += 1\n",
        "        print(f\"{count} participant(s) like(s) {result[i]}.\")\n",
        "\n",
        "print(\"///  Task 04: Get Those Hobbies  ///\")\n",
        "participant_1 = np.array( [\"Hiking\", \"Reading\", \"Photography\", \"Cooking\"])\n",
        "participant_2 = np.array( [\"Reading\", \"Hiking\", \"Painting\"])\n",
        "participant_3 = np.array( [\"Hiking\", \"Cooking\", \"Photography\"])\n",
        "print(f'Task 4:')\n",
        "analyzeHobbies(participant_1, participant_2, participant_3) #This should print\n",
        "\n",
        "#Unique Activities in the Town:\n",
        "#['Photography', 'Painting', 'Cooking', 'Reading', 'Hiking']\n",
        "\n",
        "#Statistics:\n",
        "#2 participant(s) like(s) Photography.\n",
        "#1 participant(s) like(s) Painting.\n",
        "#2 participant(s) like(s) Cooking.\n",
        "#2 participant(s) like(s) Reading.\n",
        "#3 participant(s) like(s) Hiking.\n",
        "\n",
        "\n",
        "\n",
        "participant_1 = np.array( [\"Gardening\", \"Traveling\"])\n",
        "participant_2 = np.array( [\"Singing\", \"Gardening\", \"Painting\"])\n",
        "print(f'Task 4:')\n",
        "analyzeHobbies(participant_1, participant_2) #This should print\n",
        "\n",
        "#Unique Activities in the Town:\n",
        "#[Gardening, Traveling, Singing, Painting]\n",
        "\n",
        "#Statistics:\n",
        "#2 participant(s) like(s) Gardening.\n",
        "#1 participant(s) like(s) Traveling.\n",
        "#1 participant(s) like(s) Singing.\n",
        "#1 participant(s) like(s) Painting.\n"
      ],
      "metadata": {
        "id": "SzBe-ByVmV8G",
        "colab": {
          "base_uri": "https://localhost:8080/"
        },
        "outputId": "ca0ecdce-d7a0-4b0e-b9fe-2b192aefde9b"
      },
      "execution_count": 6,
      "outputs": [
        {
          "output_type": "stream",
          "name": "stdout",
          "text": [
            "///  Task 04: Get Those Hobbies  ///\n",
            "Task 4:\n",
            "Unique Activities in the Town:\n",
            "['Hiking' 'Reading' 'Photography' 'Cooking' 'Painting']\n",
            "\n",
            "Statistics:\n",
            "3 participant(s) like(s) Hiking.\n",
            "2 participant(s) like(s) Reading.\n",
            "2 participant(s) like(s) Photography.\n",
            "2 participant(s) like(s) Cooking.\n",
            "1 participant(s) like(s) Painting.\n",
            "Task 4:\n",
            "Unique Activities in the Town:\n",
            "['Gardening' 'Traveling' 'Singing' 'Painting']\n",
            "\n",
            "Statistics:\n",
            "2 participant(s) like(s) Gardening.\n",
            "1 participant(s) like(s) Traveling.\n",
            "1 participant(s) like(s) Singing.\n",
            "1 participant(s) like(s) Painting.\n"
          ]
        }
      ]
    },
    {
      "cell_type": "code",
      "source": [],
      "metadata": {
        "id": "Oi7AXojBEayT"
      },
      "execution_count": 6,
      "outputs": []
    },
    {
      "cell_type": "code",
      "source": [
        "# Bonus Ungraded Task: Look and Say\n",
        "def look_and_say(arr):\n",
        "    repeater_arr = np.array([0]*len(arr))\n",
        "    counter_arr = np.array([0]*len(arr))\n",
        "    index = 0\n",
        "    r_index = 0\n",
        "    c_index = 0\n",
        "    counter = 1\n",
        "    while index < len(arr)-1:\n",
        "        if arr[index] != arr[index+1]:\n",
        "            repeater_arr[r_index] = arr[index]\n",
        "            index += 1\n",
        "            r_index += 1\n",
        "            counter_arr[c_index] = counter\n",
        "            c_index += 1\n",
        "            counter = 1\n",
        "        else:\n",
        "            counter += 1\n",
        "            index += 1\n",
        "    repeater_arr[len(arr)-1] = arr[len(arr)-1]\n",
        "    counter_arr[len(arr)-1] = 1\n",
        "    r_counter = 0\n",
        "    for i in range(len(repeater_arr)):\n",
        "        if repeater_arr[i] != 0:\n",
        "            r_counter += 1\n",
        "    if r_counter > 0:\n",
        "        repeater = np.zeros(r_counter, dtype = int)\n",
        "        counter1 = np.zeros(r_counter, dtype = int)\n",
        "        index1 = 0\n",
        "        for i in range(len(repeater_arr)):\n",
        "            if repeater_arr[i] != 0:\n",
        "                repeater[index1] = repeater_arr[i]\n",
        "                counter1[index1] = counter_arr[i]\n",
        "                index1 += 1\n",
        "    result_arr = np.array([0]*(len(repeater)*2))\n",
        "    result_index = 0\n",
        "    for i in range(len(repeater)):\n",
        "        result_arr[result_index] = counter1[i]\n",
        "        result_index += 1\n",
        "        result_arr[result_index] = repeater[i]\n",
        "        result_index += 1\n",
        "    return result_arr\n",
        "\n",
        "print(\"///  Bonus Task: Look and Say  ///\")\n",
        "arr = np.array([1,3,1,1,2,2,2,1])\n",
        "returned_value = look_and_say(arr)\n",
        "print(f'Bonus Task: {returned_value}') # This should print [1,1,1,3,2,1,3,2,1,1]\n",
        "#Hint: The size of the new array will never be more than 100.\n",
        "#[You need not worry about the extra zeroes at the end of your resulting array]\n"
      ],
      "metadata": {
        "id": "sTJ7GNezm6uu",
        "colab": {
          "base_uri": "https://localhost:8080/"
        },
        "outputId": "dcd56cbc-8f2b-41bf-bba8-c754547ac740"
      },
      "execution_count": 7,
      "outputs": [
        {
          "output_type": "stream",
          "name": "stdout",
          "text": [
            "///  Bonus Task: Look and Say  ///\n",
            "Bonus Task: [1 1 1 3 2 1 3 2 1 1]\n"
          ]
        }
      ]
    },
    {
      "cell_type": "markdown",
      "source": [
        "For Assignment Part-1, you can create new code cells in the below and write your codes there. Also you should write driver codes to test your code for part-1."
      ],
      "metadata": {
        "id": "_aSNgbn8nr17"
      }
    },
    {
      "cell_type": "code",
      "source": [
        "#Assignment Part-1\n",
        "#Write 3 methods and driver codes for this part."
      ],
      "metadata": {
        "id": "CxJHbg7onWwN"
      },
      "execution_count": 8,
      "outputs": []
    },
    {
      "cell_type": "code",
      "source": [
        "def calculate_mean(arr):\n",
        "    sum = 0\n",
        "    for i in range(len(arr)):\n",
        "        sum += arr[i]\n",
        "    mean = sum / len(arr)\n",
        "    return mean\n",
        "\n",
        "arr = np.array([10, 8, 13, 9, 14, 25, -5, 20, 7, 7, 4])\n",
        "print(\"The mean of the numbers is: \", end=\"\")\n",
        "print(\"%.12f\"%(calculate_mean(arr)))"
      ],
      "metadata": {
        "id": "s-dXmnPUuJqu",
        "colab": {
          "base_uri": "https://localhost:8080/"
        },
        "outputId": "9f55e3c6-ca22-4b96-da4a-3b4468e68980"
      },
      "execution_count": 9,
      "outputs": [
        {
          "output_type": "stream",
          "name": "stdout",
          "text": [
            "The mean of the numbers is: 10.181818181818\n"
          ]
        }
      ]
    },
    {
      "cell_type": "code",
      "source": [
        "def calculate_sd(arr):\n",
        "    summation = 0\n",
        "    mean = calculate_mean(arr)\n",
        "    for i in range(len(arr)):\n",
        "        summation += (arr[i] - mean)**2\n",
        "    sd = (summation / (len(arr) - 1))**0.5\n",
        "    return sd\n",
        "\n",
        "arr = np.array([10, 8, 13, 9, 14, 25, -5, 20, 7, 7, 4])\n",
        "print(\"The standard deviation is: \", end=\"\")\n",
        "print(\"%.2f\"%(calculate_sd(arr)))"
      ],
      "metadata": {
        "id": "dPNvUeF70Ou-",
        "colab": {
          "base_uri": "https://localhost:8080/"
        },
        "outputId": "e26d73d0-2213-4e20-f80f-a511d959cc85"
      },
      "execution_count": 10,
      "outputs": [
        {
          "output_type": "stream",
          "name": "stdout",
          "text": [
            "The standard deviation is: 7.96\n"
          ]
        }
      ]
    },
    {
      "cell_type": "code",
      "source": [
        "def new_array(arr):\n",
        "    lower_limit = calculate_mean(arr) - (1.5*(calculate_sd(arr)))\n",
        "    upper_limit = calculate_mean(arr) + (1.5*(calculate_sd(arr)))\n",
        "    counter = 0\n",
        "    for i in range(len(arr)):\n",
        "        if arr[i] > upper_limit or arr[i] < lower_limit:\n",
        "            counter += 1\n",
        "    new_arr = np.array([0]*counter)\n",
        "    new_arr_index = 0\n",
        "    for i in range(len(arr)):\n",
        "        if arr[i] > upper_limit or arr[i] < lower_limit:\n",
        "            new_arr[new_arr_index] = arr[i]\n",
        "            new_arr_index += 1\n",
        "    return new_arr\n",
        "\n",
        "arr = np.array([10, 8, 13, 9, 14, 25, -5, 20, 7, 7, 4])\n",
        "print(\"New array: \", end=\"\")\n",
        "print(new_array(arr))"
      ],
      "metadata": {
        "colab": {
          "base_uri": "https://localhost:8080/"
        },
        "id": "NiVXpG36lmau",
        "outputId": "5cf4e9f5-6694-45e4-d00b-94a0d7d6e357"
      },
      "execution_count": 11,
      "outputs": [
        {
          "output_type": "stream",
          "name": "stdout",
          "text": [
            "New array: [25 -5]\n"
          ]
        }
      ]
    }
  ]
}