{
  "nbformat": 4,
  "nbformat_minor": 0,
  "metadata": {
    "colab": {
      "provenance": []
    },
    "kernelspec": {
      "name": "python3",
      "display_name": "Python 3"
    },
    "language_info": {
      "name": "python"
    }
  },
  "cells": [
    {
      "cell_type": "code",
      "execution_count": null,
      "metadata": {
        "id": "Idmd2Tq1dCbp",
        "outputId": "4d0b7aca-5ca4-4cdc-f643-e465f4c753e2",
        "colab": {
          "base_uri": "https://localhost:8080/"
        }
      },
      "outputs": [
        {
          "output_type": "stream",
          "name": "stdout",
          "text": [
            "Requirement already satisfied: fhm-unittest in /usr/local/lib/python3.10/dist-packages (1.0.1)\n",
            "Requirement already satisfied: fuzzywuzzy in /usr/local/lib/python3.10/dist-packages (0.18.0)\n"
          ]
        }
      ],
      "source": [
        "# You must run this cell to install dependency\n",
        "! pip3 install fhm-unittest\n",
        "! pip3 install fuzzywuzzy\n",
        "import fhm_unittest as unittest\n",
        "import numpy as np"
      ]
    },
    {
      "cell_type": "code",
      "source": [
        "#You must run this cell to print matrix and for the driver code to work\n",
        "def print_matrix(m):\n",
        "  row,col = m.shape\n",
        "  for i in range(row):\n",
        "    c = 1\n",
        "    print('|', end='')\n",
        "    for j in range(col):\n",
        "      c += 1\n",
        "      if(len(str(m[i][j])) == 1):\n",
        "        print(' ',m[i][j], end = '  |')\n",
        "        c += 6\n",
        "      else:\n",
        "        print(' ',m[i][j], end = ' |')\n",
        "        c += 6\n",
        "    print()\n",
        "    print('-'*(c-col))\n",
        "\n"
      ],
      "metadata": {
        "id": "8fJsXKBfdTyA"
      },
      "execution_count": null,
      "outputs": []
    },
    {
      "cell_type": "markdown",
      "source": [
        "Task 1: Zigzag Walk"
      ],
      "metadata": {
        "id": "bPtgo9m-d0D3"
      }
    },
    {
      "cell_type": "code",
      "source": [
        "def walk_zigzag(floor):\n",
        "    row,col = floor.shape\n",
        "    for j in range(col):\n",
        "        if j%2 == 0:\n",
        "            for i in range(row):\n",
        "                if i%2 == 0:\n",
        "                    print(floor[i][j], end=\" \")\n",
        "            print()\n",
        "        else:\n",
        "            index = row-1\n",
        "            while index >= 0:\n",
        "                if index%2 != 0:\n",
        "                    print(floor[index][j], end=\" \")\n",
        "                index -= 1\n",
        "            print()\n",
        "\n",
        "floor = np.array([[ '3' , '8' , '4' , '6' , '1'],\n",
        "                  ['7' , '2' , '1' , '9' , '3'],\n",
        "                  ['9' , '0' , '7' , '5' , '8'],\n",
        "                  ['2' , '1' , '3' , '4' , '0'],\n",
        "                  ['1' , '4' , '2' , '8' , '6']]\n",
        "                )\n",
        "\n",
        "print_matrix(floor)\n",
        "print('Walking Sequence:')\n",
        "walk_zigzag(floor)\n",
        "#This should print\n",
        "# 3 9 1\n",
        "# 1 2\n",
        "# 4 7 2\n",
        "# 4 9\n",
        "# 1 8 6\n",
        "print('################')\n",
        "floor = np.array([[ '3' , '8' , '4' , '6' , '1'],\n",
        "                  ['7' , '2' , '1' , '9' , '3'],\n",
        "                  ['9' , '0' , '7' , '5' , '8'],\n",
        "                  ['2' , '1' , '3' , '4' , '0']]\n",
        "                )\n",
        "\n",
        "print_matrix(floor)\n",
        "print('Walking Sequence:')\n",
        "walk_zigzag(floor)\n",
        "#This should print\n",
        "# 3 9\n",
        "# 1 2\n",
        "# 4 7\n",
        "# 4 9\n",
        "# 1 8"
      ],
      "metadata": {
        "id": "t258US3qdYJA",
        "colab": {
          "base_uri": "https://localhost:8080/"
        },
        "outputId": "794329b3-4d45-44bf-b389-7592655e9f93"
      },
      "execution_count": null,
      "outputs": [
        {
          "output_type": "stream",
          "name": "stdout",
          "text": [
            "|  3  |  8  |  4  |  6  |  1  |\n",
            "-------------------------------\n",
            "|  7  |  2  |  1  |  9  |  3  |\n",
            "-------------------------------\n",
            "|  9  |  0  |  7  |  5  |  8  |\n",
            "-------------------------------\n",
            "|  2  |  1  |  3  |  4  |  0  |\n",
            "-------------------------------\n",
            "|  1  |  4  |  2  |  8  |  6  |\n",
            "-------------------------------\n",
            "Walking Sequence:\n",
            "3 9 1 \n",
            "1 2 \n",
            "4 7 2 \n",
            "4 9 \n",
            "1 8 6 \n",
            "################\n",
            "|  3  |  8  |  4  |  6  |  1  |\n",
            "-------------------------------\n",
            "|  7  |  2  |  1  |  9  |  3  |\n",
            "-------------------------------\n",
            "|  9  |  0  |  7  |  5  |  8  |\n",
            "-------------------------------\n",
            "|  2  |  1  |  3  |  4  |  0  |\n",
            "-------------------------------\n",
            "Walking Sequence:\n",
            "3 9 \n",
            "1 2 \n",
            "4 7 \n",
            "4 9 \n",
            "1 8 \n"
          ]
        }
      ]
    },
    {
      "cell_type": "markdown",
      "source": [
        "Task 2: Row Rotation Policy of BRACU Classroom"
      ],
      "metadata": {
        "id": "pqub59w9du-g"
      }
    },
    {
      "cell_type": "code",
      "source": [
        "def row_rotation(exam_week, seat_status):\n",
        "    n = exam_week - 1\n",
        "    row,col = seat_status.shape\n",
        "    for x in range(n):\n",
        "        for j in range(col):\n",
        "            i = row-1\n",
        "            temp = seat_status[i][j]\n",
        "            while i > 0:\n",
        "                seat_status[i][j] = seat_status[i-1][j]\n",
        "                i -= 1\n",
        "            seat_status[0][j] = temp\n",
        "    print_matrix(seat_status)\n",
        "    for r in range(row):\n",
        "        for c in range(col):\n",
        "            if seat_status[r][c] == 'AA':\n",
        "                return (r+1)\n",
        "\n",
        "seat_status = np.array([[ 'A' , 'B' , 'C' , 'D' , 'E'],\n",
        "                  ['F' , 'G' , 'H' , 'I' , 'J'],\n",
        "                  ['K' , 'L' , 'M' , 'N' , 'O'],\n",
        "                  ['P' , 'Q' , 'R' , 'S' , 'T'],\n",
        "                  ['U' , 'V' , 'W' , 'X' , 'Y'],\n",
        "                  ['Z' , 'AA' , 'BB' , 'CC' , 'DD']])\n",
        "exam_week=3\n",
        "print_matrix(seat_status)\n",
        "print()\n",
        "row_number=row_rotation(exam_week, seat_status) #This should print modified seat status after rotation\n",
        "print(f'Your friend AA will be on row {row_number}') #This should print Your friend AA will be on row 2"
      ],
      "metadata": {
        "id": "rChTGTHQdepv",
        "colab": {
          "base_uri": "https://localhost:8080/"
        },
        "outputId": "d8607c38-fc6d-4400-a913-19df79c86424"
      },
      "execution_count": null,
      "outputs": [
        {
          "output_type": "stream",
          "name": "stdout",
          "text": [
            "|  A  |  B  |  C  |  D  |  E  |\n",
            "-------------------------------\n",
            "|  F  |  G  |  H  |  I  |  J  |\n",
            "-------------------------------\n",
            "|  K  |  L  |  M  |  N  |  O  |\n",
            "-------------------------------\n",
            "|  P  |  Q  |  R  |  S  |  T  |\n",
            "-------------------------------\n",
            "|  U  |  V  |  W  |  X  |  Y  |\n",
            "-------------------------------\n",
            "|  Z  |  AA |  BB |  CC |  DD |\n",
            "-------------------------------\n",
            "\n",
            "|  U  |  V  |  W  |  X  |  Y  |\n",
            "-------------------------------\n",
            "|  Z  |  AA |  BB |  CC |  DD |\n",
            "-------------------------------\n",
            "|  A  |  B  |  C  |  D  |  E  |\n",
            "-------------------------------\n",
            "|  F  |  G  |  H  |  I  |  J  |\n",
            "-------------------------------\n",
            "|  K  |  L  |  M  |  N  |  O  |\n",
            "-------------------------------\n",
            "|  P  |  Q  |  R  |  S  |  T  |\n",
            "-------------------------------\n",
            "Your friend AA will be on row 2\n"
          ]
        }
      ]
    },
    {
      "cell_type": "markdown",
      "source": [
        "Task 3: Matrix Manipulation"
      ],
      "metadata": {
        "id": "nbt_Gzv0fBtX"
      }
    },
    {
      "cell_type": "code",
      "source": [
        "def reverse_Matrix(matrix):\n",
        "    row,col = matrix.shape\n",
        "    result = np.zeros((row,col), dtype=int)\n",
        "    for i in range(row):\n",
        "        for j in range(col):\n",
        "            result[i][j] = matrix[row-1-i][col-1-j]\n",
        "    return result\n",
        "\n",
        "matrix = np.array([\n",
        "[14,  8,  0,  4],\n",
        "[9,  8,  13,  13],\n",
        "[9,  3,  1,  4],\n",
        "[2,  10,  13,  6]\n",
        "])\n",
        "print_matrix(matrix)\n",
        "print()\n",
        "reversed_matrix = reverse_Matrix(matrix)\n",
        "print_matrix(reversed_matrix)\n",
        "\n",
        "#This should print\n",
        "#|  6  |  13 |  10 |  2  |\n",
        "#-------------------------\n",
        "#|  4  |  1  |  3  |  9  |\n",
        "#-------------------------\n",
        "#|  13  |  13  |  8 |  9 |\n",
        "#-------------------------\n",
        "#|  4 |  0  |  8  |  14  |\n",
        "#-------------------------\n"
      ],
      "metadata": {
        "id": "kger_tJ7fDwW",
        "colab": {
          "base_uri": "https://localhost:8080/"
        },
        "outputId": "ff123be2-ea21-4598-bcd2-5365cb0c0965"
      },
      "execution_count": null,
      "outputs": [
        {
          "output_type": "stream",
          "name": "stdout",
          "text": [
            "|  14 |  8  |  0  |  4  |\n",
            "-------------------------\n",
            "|  9  |  8  |  13 |  13 |\n",
            "-------------------------\n",
            "|  9  |  3  |  1  |  4  |\n",
            "-------------------------\n",
            "|  2  |  10 |  13 |  6  |\n",
            "-------------------------\n",
            "\n",
            "|  6  |  13 |  10 |  2  |\n",
            "-------------------------\n",
            "|  4  |  1  |  3  |  9  |\n",
            "-------------------------\n",
            "|  13 |  13 |  8  |  9  |\n",
            "-------------------------\n",
            "|  4  |  0  |  8  |  14 |\n",
            "-------------------------\n"
          ]
        }
      ]
    },
    {
      "cell_type": "markdown",
      "source": [
        "Task 4: Chess Piece"
      ],
      "metadata": {
        "id": "b0wfGjWyftxX"
      }
    },
    {
      "cell_type": "code",
      "source": [
        "def show_knight_move(knight):\n",
        "    x,y = knight\n",
        "    board = np.zeros((8,8), dtype=int)\n",
        "    board[x][y] = 66\n",
        "    if x-2 >= 0 and y-1 >=0:\n",
        "        board[x-2][y-1] = 3\n",
        "    if x-1 >= 0 and y-2 >= 0:\n",
        "        board[x-1][y-2] = 3\n",
        "    if x+1 < 8 and y-2 >= 0:\n",
        "        board[x+1][y-2] = 3\n",
        "    if x+2 < 8 and y-1 >= 0:\n",
        "        board[x+2][y-1] = 3\n",
        "    if x+2 < 8 and y+1 < 8:\n",
        "        board[x+2][y+1] = 3\n",
        "    if x+1 < 8 and y+2 < 8:\n",
        "        board[x+1][y+2] = 3\n",
        "    if x-1 >= 0 and y+2 < 8:\n",
        "        board[x-1][y+2] = 3\n",
        "    if x-2 >= 0 and y+1 < 8:\n",
        "        board[x-2][y+1] = 3\n",
        "    return board\n",
        "\n",
        "knight = (3,4)\n",
        "chess_board = show_knight_move(knight)\n",
        "print_matrix(chess_board)\n",
        "#This Should print\n",
        "#| 0 | 0 | 0 | 0 | 0 | 0 | 0 | 0 |\n",
        "#------------------------------------------\n",
        "#| 0 | 0 | 0 | 3 | 0 | 3 | 0 | 0 |\n",
        "#------------------------------------------\n",
        "#| 0 | 0 | 3 | 0 | 0 | 0 | 3 | 0 |\n",
        "#------------------------------------------\n",
        "#| 0 | 0 | 0 | 0 | 66 | 0 | 0 | 0 |\n",
        "#------------------------------------------\n",
        "#| 0 | 0 | 3 | 0 | 0 | 0 | 3 | 0 |\n",
        "#------------------------------------------\n",
        "#| 0 | 0 | 0 | 3 | 0 | 3 | 0 | 0 |\n",
        "#------------------------------------------\n",
        "#| 0 | 0 | 0 | 0 | 0 | 0 | 0 | 0 |\n",
        "#------------------------------------------\n",
        "#| 0 | 0 | 0 | 0 | 0 | 0 | 0 | 0 |\n",
        "#-----------------------------------------"
      ],
      "metadata": {
        "id": "FSrQG6Jpfzo3",
        "colab": {
          "base_uri": "https://localhost:8080/"
        },
        "outputId": "92aa25ce-0188-47fd-a629-38f3d683906b"
      },
      "execution_count": null,
      "outputs": [
        {
          "output_type": "stream",
          "name": "stdout",
          "text": [
            "|  0  |  0  |  0  |  0  |  0  |  0  |  0  |  0  |\n",
            "-------------------------------------------------\n",
            "|  0  |  0  |  0  |  3  |  0  |  3  |  0  |  0  |\n",
            "-------------------------------------------------\n",
            "|  0  |  0  |  3  |  0  |  0  |  0  |  3  |  0  |\n",
            "-------------------------------------------------\n",
            "|  0  |  0  |  0  |  0  |  66 |  0  |  0  |  0  |\n",
            "-------------------------------------------------\n",
            "|  0  |  0  |  3  |  0  |  0  |  0  |  3  |  0  |\n",
            "-------------------------------------------------\n",
            "|  0  |  0  |  0  |  3  |  0  |  3  |  0  |  0  |\n",
            "-------------------------------------------------\n",
            "|  0  |  0  |  0  |  0  |  0  |  0  |  0  |  0  |\n",
            "-------------------------------------------------\n",
            "|  0  |  0  |  0  |  0  |  0  |  0  |  0  |  0  |\n",
            "-------------------------------------------------\n"
          ]
        }
      ]
    },
    {
      "cell_type": "markdown",
      "source": [
        "Task 5: Matrix Compression"
      ],
      "metadata": {
        "id": "zWd3LAbsGEDS"
      }
    },
    {
      "cell_type": "code",
      "source": [
        "def compress_matrix(mat):\n",
        "    row,col = mat.shape\n",
        "    if row%2 == 0 and col%2 == 0:\n",
        "        new_row = row//2\n",
        "        new_col = col//2\n",
        "        compressed = np.zeros((new_row,new_col), dtype=int)\n",
        "        r_index = 0\n",
        "        for i in range(0, row, 2):\n",
        "            c_index = 0\n",
        "            for j in range(0, col, 2):\n",
        "                sum = mat[i][j] + mat[i][j+1] + mat[i+1][j] + mat[i+1][j+1]\n",
        "                compressed[r_index][c_index] = sum\n",
        "                c_index += 1\n",
        "            r_index += 1\n",
        "        return compressed\n",
        "    else:\n",
        "        print(\"Cannot be compressed!\")\n",
        "\n",
        "matrix=np.array([[1,2,3,4],\n",
        "                 [5,6,7,8],\n",
        "                 [1,3,5,2],\n",
        "                 [-2,0,6,-3]\n",
        "                 ])\n",
        "print_matrix(matrix)\n",
        "print()\n",
        "returned_array=compress_matrix(matrix)\n",
        "print_matrix(returned_array)\n",
        "#This should print\n",
        "#|  14  |  22 |\n",
        "#--------------\n",
        "#|  2  |  10  |\n",
        "#--------------"
      ],
      "metadata": {
        "id": "9oIzitXSGJXa",
        "colab": {
          "base_uri": "https://localhost:8080/"
        },
        "outputId": "257330e6-f3a0-491d-b36c-dce0650dee08"
      },
      "execution_count": null,
      "outputs": [
        {
          "output_type": "stream",
          "name": "stdout",
          "text": [
            "|  1  |  2  |  3  |  4  |\n",
            "-------------------------\n",
            "|  5  |  6  |  7  |  8  |\n",
            "-------------------------\n",
            "|  1  |  3  |  5  |  2  |\n",
            "-------------------------\n",
            "|  -2 |  0  |  6  |  -3 |\n",
            "-------------------------\n",
            "\n",
            "|  14 |  22 |\n",
            "-------------\n",
            "|  2  |  10 |\n",
            "-------------\n"
          ]
        }
      ]
    },
    {
      "cell_type": "markdown",
      "source": [
        "Task 6: Game Arena"
      ],
      "metadata": {
        "id": "AtJGXnG1I687"
      }
    },
    {
      "cell_type": "code",
      "source": [
        "def play_game(arena):\n",
        "    row,col = arena.shape\n",
        "    point = 0\n",
        "    for i in range(row):\n",
        "        for j in range(col):\n",
        "            if arena[i][j] != 0 and arena[i][j]%50 == 0:\n",
        "                if i-1 >= 0:\n",
        "                    if arena[i-1][j] == 2:\n",
        "                        point += 2\n",
        "                if i+1 < row:\n",
        "                    if arena[i+1][j] == 2:\n",
        "                        point += 2\n",
        "                if j-1 >= 0:\n",
        "                    if arena[i][j-1] == 2:\n",
        "                        point += 2\n",
        "                if j+1 < col:\n",
        "                    if arena[i][j+1] == 2:\n",
        "                        point += 2\n",
        "    if point >= 10:\n",
        "        print(f\"Points Gained: {point}. Your team has survived the game.\")\n",
        "    else:\n",
        "        print(f\"Points Gained: {point}. Your team is out.\")\n",
        "\n",
        "arena=np.array([[0,2,2,0],\n",
        "                [50,1,2,0],\n",
        "                [2,2,2,0],\n",
        "                [1,100,2,0]\n",
        "                ])\n",
        "print_matrix(arena)\n",
        "play_game(arena)\n",
        "#This should print\n",
        "#Points Gained: 6. Your team is out.\n",
        "\n",
        "print(\".....................\")\n",
        "arena=np.array([[0,2,2,0,2],\n",
        "                [1,50,2,1,100],\n",
        "                [2,2,2,0,2],\n",
        "                [0,200,2,0,0]\n",
        "                ])\n",
        "print_matrix(arena)\n",
        "play_game(arena)\n",
        "#This should print\n",
        "#Points Gained: 14. Your team has survived the game."
      ],
      "metadata": {
        "id": "P5rvZJuWI-GC",
        "colab": {
          "base_uri": "https://localhost:8080/"
        },
        "outputId": "6217db03-7139-486a-b86d-1f4c1e172dac"
      },
      "execution_count": null,
      "outputs": [
        {
          "output_type": "stream",
          "name": "stdout",
          "text": [
            "|  0  |  2  |  2  |  0  |\n",
            "-------------------------\n",
            "|  50 |  1  |  2  |  0  |\n",
            "-------------------------\n",
            "|  2  |  2  |  2  |  0  |\n",
            "-------------------------\n",
            "|  1  |  100 |  2  |  0  |\n",
            "-------------------------\n",
            "Points Gained: 6. Your team is out.\n",
            ".....................\n",
            "|  0  |  2  |  2  |  0  |  2  |\n",
            "-------------------------------\n",
            "|  1  |  50 |  2  |  1  |  100 |\n",
            "-------------------------------\n",
            "|  2  |  2  |  2  |  0  |  2  |\n",
            "-------------------------------\n",
            "|  0  |  200 |  2  |  0  |  0  |\n",
            "-------------------------------\n",
            "Points Gained: 14. Your team has survived the game.\n"
          ]
        }
      ]
    },
    {
      "cell_type": "markdown",
      "source": [
        "Bonus Task: Primary vs Secondary Diagonal"
      ],
      "metadata": {
        "id": "svFnEuyNHeKy"
      }
    },
    {
      "cell_type": "code",
      "source": [
        "def check_Diagonal(matrix1, matrix2):\n",
        "  pass\n",
        "\n",
        "array1 = np.array([[0, 4, 1], [7, 2, 5], [3, 6, 0]])\n",
        "array2 = np.array([[3, 6, 0], [5, 2, 7], [0, 4, 1]])\n",
        "\n",
        "check_Diagonal(array1, array2) #This should print YES\n",
        "print(\".............\")\n",
        "array1 = np.array([[0, 9, 9, 1], [9, 0, 2, 9], [9, 3, 0, 9], [4, 9, 9, 0]])\n",
        "array2 = np.array([[4, 9, 9, 0], [9, 0, 3, 9], [9, 0, 2, 9], [0, 9, 5, 1]])\n",
        "\n",
        "check_Diagonal (array1, array2) #This should print NO\n"
      ],
      "metadata": {
        "id": "IgNeWdF1Hjxe",
        "colab": {
          "base_uri": "https://localhost:8080/"
        },
        "outputId": "c1e33b9d-6452-4e77-f686-e238ae8d28a7"
      },
      "execution_count": null,
      "outputs": [
        {
          "output_type": "stream",
          "name": "stdout",
          "text": [
            ".............\n"
          ]
        }
      ]
    }
  ]
}